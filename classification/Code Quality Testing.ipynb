{
 "cells": [
  {
   "cell_type": "code",
   "execution_count": 1,
   "id": "ef34b764",
   "metadata": {},
   "outputs": [
    {
     "name": "stdout",
     "output_type": "stream",
     "text": [
      "# Number of lines not matching\n"
     ]
    }
   ],
   "source": [
    "print(\"# Number of lines not matching\")"
   ]
  },
  {
   "cell_type": "code",
   "execution_count": 2,
   "id": "19d5a383",
   "metadata": {},
   "outputs": [
    {
     "name": "stdout",
     "output_type": "stream",
     "text": [
      "# Pands is used and not imported\n"
     ]
    }
   ],
   "source": [
    "print(\"# Pands is used and not imported\")"
   ]
  },
  {
   "cell_type": "markdown",
   "id": "1c5fad46",
   "metadata": {},
   "source": [
    "# <a href=\"www.google.com\">Click here to drill down more</a>Drill down more "
   ]
  },
  {
   "cell_type": "code",
   "execution_count": null,
   "id": "0ba5b28a",
   "metadata": {},
   "outputs": [],
   "source": []
  }
 ],
 "metadata": {
  "kernelspec": {
   "display_name": "Python 3",
   "language": "python",
   "name": "python3"
  },
  "language_info": {
   "codemirror_mode": {
    "name": "ipython",
    "version": 3
   },
   "file_extension": ".py",
   "mimetype": "text/x-python",
   "name": "python",
   "nbconvert_exporter": "python",
   "pygments_lexer": "ipython3",
   "version": "3.6.15"
  }
 },
 "nbformat": 4,
 "nbformat_minor": 5
}
