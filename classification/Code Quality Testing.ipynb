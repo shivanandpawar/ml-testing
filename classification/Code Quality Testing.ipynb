{
 "cells": [
  {
   "cell_type": "code",
   "execution_count": 1,
   "id": "d2076d40",
   "metadata": {},
   "outputs": [
    {
     "name": "stdout",
     "output_type": "stream",
     "text": [
      "# Number of lines not matching\n"
     ]
    }
   ],
   "source": [
    "print(\"# Number of lines not matching\")"
   ]
  },
  {
   "cell_type": "code",
   "execution_count": 2,
   "id": "88f6b3c5",
   "metadata": {},
   "outputs": [
    {
     "name": "stdout",
     "output_type": "stream",
     "text": [
      "# Pands is used and not imported\n"
     ]
    }
   ],
   "source": [
    "print(\"# Pands is used and not imported\")"
   ]
  },
  {
   "cell_type": "markdown",
   "id": "229f09ca",
   "metadata": {},
   "source": [
    "# <a href=\"www.google.com\">Click here to drill down more</a>Drill down more "
   ]
  },
  {
   "cell_type": "code",
   "execution_count": 3,
   "id": "9e3ed0df",
   "metadata": {},
   "outputs": [],
   "source": [
    "# API Register app <source folder>"
   ]
  },
  {
   "cell_type": "code",
   "execution_count": null,
   "id": "bcc5f00b",
   "metadata": {},
   "outputs": [],
   "source": [
    "# API Deploy the app<>"
   ]
  }
 ],
 "metadata": {
  "kernelspec": {
   "display_name": "Python 3",
   "language": "python",
   "name": "python3"
  },
  "language_info": {
   "codemirror_mode": {
    "name": "ipython",
    "version": 3
   },
   "file_extension": ".py",
   "mimetype": "text/x-python",
   "name": "python",
   "nbconvert_exporter": "python",
   "pygments_lexer": "ipython3",
   "version": "3.6.15"
  }
 },
 "nbformat": 4,
 "nbformat_minor": 5
}
