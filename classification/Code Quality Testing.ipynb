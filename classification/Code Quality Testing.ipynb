{
 "cells": [
  {
   "cell_type": "code",
   "execution_count": 1,
   "id": "38749d7b",
   "metadata": {},
   "outputs": [
    {
     "name": "stdout",
     "output_type": "stream",
     "text": [
      "# Number of lines not matching\n"
     ]
    }
   ],
   "source": [
    "print(\"# Number of lines not matching\")"
   ]
  },
  {
   "cell_type": "code",
   "execution_count": 2,
   "id": "ea08b1f6",
   "metadata": {},
   "outputs": [
    {
     "name": "stdout",
     "output_type": "stream",
     "text": [
      "# Pands is used and not imported\n"
     ]
    }
   ],
   "source": [
    "print(\"# Pands is used and not imported\")"
   ]
  },
  {
   "cell_type": "markdown",
   "id": "56bf26ba",
   "metadata": {},
   "source": [
    "# <a href=\"www.google.com\">Click here to drill down more</a>Drill down more "
   ]
  },
  {
   "cell_type": "code",
   "execution_count": 3,
   "id": "b49837d0",
   "metadata": {},
   "outputs": [],
   "source": [
    "# API Register app <source folder>"
   ]
  },
  {
   "cell_type": "code",
   "execution_count": 7,
   "id": "e8bdefbf",
   "metadata": {},
   "outputs": [],
   "source": [
    "# API Deploy the app<>"
   ]
  },
  {
   "cell_type": "code",
   "execution_count": 6,
   "id": "ba9b8187",
   "metadata": {
    "scrolled": true
   },
   "outputs": [
    {
     "data": {
      "text/html": [
       "<iframe src=\"http://mosaic-web-641551315.us-east-1.elb.amazonaws.com/ai/ml/0d288750-2ba8-430a-a8e5-ad93517c300d/models\" width=\"1200\" height=\"1000\"></iframe>\n"
      ],
      "text/plain": [
       "<IPython.core.display.HTML object>"
      ]
     },
     "metadata": {},
     "output_type": "display_data"
    }
   ],
   "source": [
    "%%html\n",
    "<iframe src=\"http://mosaic-web-641551315.us-east-1.elb.amazonaws.com/ai/ml/0d288750-2ba8-430a-a8e5-ad93517c300d/models\" width=\"1200\" height=\"1000\"></iframe>"
   ]
  },
  {
   "cell_type": "code",
   "execution_count": null,
   "id": "8c186a02",
   "metadata": {},
   "outputs": [],
   "source": []
  }
 ],
 "metadata": {
  "kernelspec": {
   "display_name": "Python 3",
   "language": "python",
   "name": "python3"
  },
  "language_info": {
   "codemirror_mode": {
    "name": "ipython",
    "version": 3
   },
   "file_extension": ".py",
   "mimetype": "text/x-python",
   "name": "python",
   "nbconvert_exporter": "python",
   "pygments_lexer": "ipython3",
   "version": "3.6.15"
  }
 },
 "nbformat": 4,
 "nbformat_minor": 5
}
